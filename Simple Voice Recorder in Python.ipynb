{
 "cells": [
  {
   "cell_type": "code",
   "execution_count": 2,
   "id": "ac6cf2e4-841a-4d10-8fb0-f76d520ba896",
   "metadata": {},
   "outputs": [
    {
     "name": "stdout",
     "output_type": "stream",
     "text": [
      "Collecting pyaudio\n",
      "  Using cached PyAudio-0.2.14-cp312-cp312-win_amd64.whl.metadata (2.7 kB)\n",
      "Using cached PyAudio-0.2.14-cp312-cp312-win_amd64.whl (164 kB)\n",
      "Installing collected packages: pyaudio\n",
      "Successfully installed pyaudio-0.2.14\n",
      "Note: you may need to restart the kernel to use updated packages.\n"
     ]
    }
   ],
   "source": [
    "pip install pyaudio"
   ]
  },
  {
   "cell_type": "code",
   "execution_count": 4,
   "id": "7469e1bb-8c49-4fa9-ba8a-5953522a04be",
   "metadata": {},
   "outputs": [],
   "source": [
    "import os "
   ]
  },
  {
   "cell_type": "code",
   "execution_count": 6,
   "id": "e4cfa889-be02-45f0-ad32-46d4c8715bd5",
   "metadata": {},
   "outputs": [],
   "source": [
    "import wave "
   ]
  },
  {
   "cell_type": "code",
   "execution_count": 8,
   "id": "1bc95067-84d5-4f7c-9045-c11b1ae139d6",
   "metadata": {},
   "outputs": [],
   "source": [
    "import time "
   ]
  },
  {
   "cell_type": "code",
   "execution_count": 10,
   "id": "8bfc45e7-fee2-423e-842a-f84151477961",
   "metadata": {},
   "outputs": [],
   "source": [
    "import threading"
   ]
  },
  {
   "cell_type": "code",
   "execution_count": 12,
   "id": "30eef6ed-51b1-4a48-b70c-2c92dc7fcdf6",
   "metadata": {},
   "outputs": [],
   "source": [
    "import tkinter as tk "
   ]
  },
  {
   "cell_type": "code",
   "execution_count": 14,
   "id": "5060d373-8ff0-4be0-9790-fd42ac561ecb",
   "metadata": {},
   "outputs": [],
   "source": [
    "import pyaudio "
   ]
  },
  {
   "cell_type": "code",
   "execution_count": null,
   "id": "53902295-2ee0-47c5-8454-477aff7d72df",
   "metadata": {},
   "outputs": [
    {
     "name": "stdout",
     "output_type": "stream",
     "text": [
      "Recording saved as recording1.wav\n",
      "Recording saved as recording2.wav\n"
     ]
    }
   ],
   "source": [
    "class VoiceRecorder:\n",
    "\n",
    "    def __init__(self):\n",
    "        self.root = tk.Tk()\n",
    "        self.root.resizable(False, False)\n",
    "        self.button = tk.Button(text=\"🎤\", font=(\"Arial\", 120, \"bold\"),\n",
    "                                command=self.click_handler)\n",
    "        self.button.pack()\n",
    "\n",
    "        self.label = tk.Label(text=\"00:00:00\", font=(\"Arial\", 16))\n",
    "        self.label.pack()\n",
    "\n",
    "        self.recording = False\n",
    "        self.root.mainloop()\n",
    "\n",
    "    def click_handler(self):\n",
    "        if self.recording:\n",
    "            self.recording = False\n",
    "            self.button.config(fg=\"black\")\n",
    "        else:\n",
    "            self.recording = True\n",
    "            self.button.config(fg=\"red\")\n",
    "            threading.Thread(target=self.record).start()\n",
    "\n",
    "    def record(self):\n",
    "        try:\n",
    "            audio = pyaudio.PyAudio()\n",
    "            stream = audio.open(format=pyaudio.paInt16, channels=1, rate=44100, input=True, frames_per_buffer=1024)\n",
    "            frames = []\n",
    "            start = time.time()\n",
    "            \n",
    "            while self.recording:\n",
    "                data = stream.read(1024)\n",
    "                frames.append(data)\n",
    "\n",
    "                # Update the timer safely\n",
    "                passed = time.time() - start\n",
    "                secs = passed % 60\n",
    "                mins = (passed // 60) % 60\n",
    "                hours = passed // 3600\n",
    "                self.update_label(f\"{int(hours):02d}:{int(mins):02d}:{int(secs):02d}\")\n",
    "            \n",
    "            stream.stop_stream()\n",
    "            stream.close()\n",
    "            audio.terminate()\n",
    "\n",
    "            # Save the audio to a file\n",
    "            self.save_audio(frames, audio)\n",
    "\n",
    "        except Exception as e:\n",
    "            print(f\"An error occurred: {e}\")\n",
    "\n",
    "    def update_label(self, text):\n",
    "        # Update the label text in the main thread\n",
    "        self.root.after(0, self.label.config, {'text': text})\n",
    "\n",
    "    def save_audio(self, frames, audio):\n",
    "        # Find a unique file name\n",
    "        i = 1\n",
    "        while os.path.exists(f\"recording{i}.wav\"):\n",
    "            i += 1\n",
    "\n",
    "        with wave.open(f\"recording{i}.wav\", \"wb\") as sound_file:\n",
    "            sound_file.setnchannels(1)\n",
    "            sound_file.setsampwidth(audio.get_sample_size(pyaudio.paInt16))\n",
    "            sound_file.setframerate(44100)\n",
    "            sound_file.writeframes(b\"\".join(frames))\n",
    "        print(f\"Recording saved as recording{i}.wav\")\n",
    "\n",
    "VoiceRecorder()\n"
   ]
  },
  {
   "cell_type": "code",
   "execution_count": null,
   "id": "e84b435a-041d-4a84-bb68-39fa54ea7c2a",
   "metadata": {},
   "outputs": [],
   "source": [
    "pip install "
   ]
  },
  {
   "cell_type": "code",
   "execution_count": null,
   "id": "b74318a6-f1cd-43a9-9a11-29f1271a852a",
   "metadata": {},
   "outputs": [],
   "source": []
  }
 ],
 "metadata": {
  "kernelspec": {
   "display_name": "Python 3 (ipykernel)",
   "language": "python",
   "name": "python3"
  },
  "language_info": {
   "codemirror_mode": {
    "name": "ipython",
    "version": 3
   },
   "file_extension": ".py",
   "mimetype": "text/x-python",
   "name": "python",
   "nbconvert_exporter": "python",
   "pygments_lexer": "ipython3",
   "version": "3.12.4"
  }
 },
 "nbformat": 4,
 "nbformat_minor": 5
}
